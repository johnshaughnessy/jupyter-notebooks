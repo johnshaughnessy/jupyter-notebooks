{
 "cells": [
  {
   "cell_type": "code",
   "execution_count": 1,
   "id": "33a5b6ca-5227-41a6-b454-93a070550860",
   "metadata": {},
   "outputs": [
    {
     "name": "stdout",
     "output_type": "stream",
     "text": [
      "diffusion001.ipynb  diffusion009.ipynb\tdiffusion017.ipynb  llm004.ipynb\n",
      "diffusion002.ipynb  diffusion010.ipynb\tdiffusion018.ipynb  llm005.ipynb\n",
      "diffusion003.ipynb  diffusion011.ipynb\tdiffusion019.ipynb  llm006.ipynb\n",
      "diffusion004.ipynb  diffusion012.ipynb\timage_grid_1.png    ml001.ipynb\n",
      "diffusion005.ipynb  diffusion013.ipynb\timage_grid_2.png    ml002.ipynb\n",
      "diffusion006.ipynb  diffusion014.ipynb\tllm001.ipynb\t    ml003.ipynb\n",
      "diffusion007.ipynb  diffusion015.ipynb\tllm002.ipynb\t    ml004.ipynb\n",
      "diffusion008.ipynb  diffusion016.ipynb\tllm003.ipynb\n"
     ]
    }
   ],
   "source": [
    "!ls"
   ]
  }
 ],
 "metadata": {
  "kernelspec": {
   "display_name": "Python 3 (ipykernel)",
   "language": "python",
   "name": "python3"
  },
  "language_info": {
   "codemirror_mode": {
    "name": "ipython",
    "version": 3
   },
   "file_extension": ".py",
   "mimetype": "text/x-python",
   "name": "python",
   "nbconvert_exporter": "python",
   "pygments_lexer": "ipython3",
   "version": "3.11.0rc1"
  }
 },
 "nbformat": 4,
 "nbformat_minor": 5
}
