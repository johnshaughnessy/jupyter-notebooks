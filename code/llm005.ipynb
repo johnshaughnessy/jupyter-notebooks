{
 "cells": [
  {
   "cell_type": "markdown",
   "id": "d1cda1d9-3329-4538-9faa-99050e4b2932",
   "metadata": {},
   "source": [
    "Something seems broken about my jupyter lab sessions. Let's try an example that is as simple as possible."
   ]
  },
  {
   "cell_type": "code",
   "execution_count": 1,
   "id": "1eac176f-1764-4074-8ccd-60403d6ecac0",
   "metadata": {},
   "outputs": [
    {
     "data": {
      "text/plain": [
       "4"
      ]
     },
     "execution_count": 1,
     "metadata": {},
     "output_type": "execute_result"
    }
   ],
   "source": [
    "2 + 2"
   ]
  },
  {
   "cell_type": "code",
   "execution_count": 13,
   "id": "4a2a292b-cd48-43be-b525-7b6cf2fac73a",
   "metadata": {},
   "outputs": [],
   "source": [
    "from transformers import ( AutoModelForCausalLM, AutoTokenizer, pipeline)\n",
    "\n",
    "model_name = \"EleutherAI/gpt-neo-125m\"\n",
    "\n",
    "model = AutoModelForCausalLM.from_pretrained(model_name).to(\"cuda\")\n",
    "tokenizer = AutoTokenizer.from_pretrained(model_name, trust_remote_code=True)\n",
    "tokenizer.pad_token = tokenizer.eos_token\n",
    "tokenizer.padding_side = \"right\"\n",
    "\n",
    "pipe = pipeline(task=\"text-generation\", model=model, tokenizer=tokenizer, device=0, max_new_tokens=200)"
   ]
  },
  {
   "cell_type": "code",
   "execution_count": 14,
   "id": "c1be8ebe-11da-493c-90da-787eb2436333",
   "metadata": {},
   "outputs": [
    {
     "name": "stderr",
     "output_type": "stream",
     "text": [
      "Setting `pad_token_id` to `eos_token_id`:50256 for open-end generation.\n"
     ]
    },
    {
     "data": {
      "text/plain": [
       "[{'generated_text': '# Hello, world!\\n It all started  when I was a kid. I was a kid, and I was a kid. I was a kid. I was a kid. I was a kid. I was a kid. I was a kid. I was a kid. I was a kid. I was a kid. I was a kid. I was a kid. I was a kid. I was a kid. I was a kid. I was a kid. I was a kid. I was a kid. I was a kid. I was a kid. I was a kid. I was a kid. I was a kid. I was a kid. I was a kid. I was a kid. I was a kid. I was a kid. I was a kid. I was a kid. I was a kid. I was a kid. I was a kid. I was a kid. I was a kid. I was a kid. I was a kid. I was a kid. I was a'}]"
      ]
     },
     "execution_count": 14,
     "metadata": {},
     "output_type": "execute_result"
    }
   ],
   "source": [
    "pipe(\"# Hello, world!\\n It all started \")"
   ]
  },
  {
   "cell_type": "code",
   "execution_count": null,
   "id": "a111ca93-de3d-4889-81ac-562515d7fffc",
   "metadata": {},
   "outputs": [],
   "source": []
  }
 ],
 "metadata": {
  "kernelspec": {
   "display_name": "Python 3 (ipykernel)",
   "language": "python",
   "name": "python3"
  },
  "language_info": {
   "codemirror_mode": {
    "name": "ipython",
    "version": 3
   },
   "file_extension": ".py",
   "mimetype": "text/x-python",
   "name": "python",
   "nbconvert_exporter": "python",
   "pygments_lexer": "ipython3",
   "version": "3.10.12"
  }
 },
 "nbformat": 4,
 "nbformat_minor": 5
}
