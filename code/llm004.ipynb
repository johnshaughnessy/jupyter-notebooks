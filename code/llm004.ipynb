{
 "cells": [
  {
   "cell_type": "markdown",
   "id": "617cbfc9-c5f1-4a7a-8aa0-9703637a05bc",
   "metadata": {},
   "source": [
    "The text generation in llm003.ipynb was _very slow_. Do we need to create a pipeline to keep the model loaded into memory?\n",
    "\n",
    "This notebook tests this out."
   ]
  },
  {
   "cell_type": "code",
   "execution_count": 7,
   "id": "bcc07c88-c7be-4032-8f6b-84f3a1916b8f",
   "metadata": {},
   "outputs": [
    {
     "data": {
      "application/vnd.jupyter.widget-view+json": {
       "model_id": "42108fc498e645a3a32dd1ca182b0b3f",
       "version_major": 2,
       "version_minor": 0
      },
      "text/plain": [
       "Loading checkpoint shards:   0%|          | 0/19 [00:00<?, ?it/s]"
      ]
     },
     "metadata": {},
     "output_type": "display_data"
    }
   ],
   "source": [
    "import torch\n",
    "from transformers import ( AutoModelForCausalLM, AutoTokenizer, pipeline)\n",
    "\n",
    "model_name = \"mistralai/Mixtral-8x7B-Instruct-v0.1\"\n",
    "\n",
    "model = AutoModelForCausalLM.from_pretrained( \n",
    "    model_name, \n",
    "    low_cpu_mem_usage=True,\n",
    "    return_dict=True,\n",
    ")\n",
    "\n",
    "tokenizer = AutoTokenizer.from_pretrained(model_name, trust_remote_code=True) \n",
    "tokenizer.pad_token = tokenizer.eos_token\n",
    "tokenizer.padding_side = \"right\""
   ]
  },
  {
   "cell_type": "code",
   "execution_count": 10,
   "id": "e22fd8fd-2eed-4a73-a439-11f60c4686e4",
   "metadata": {},
   "outputs": [],
   "source": [
    "pipe = pipeline(task=\"text-generation\", model=model, tokenizer=tokenizer, max_new_tokens=200)"
   ]
  },
  {
   "cell_type": "code",
   "execution_count": 11,
   "id": "9727c683-3cc5-457f-ab7d-39866c21fc59",
   "metadata": {},
   "outputs": [
    {
     "name": "stderr",
     "output_type": "stream",
     "text": [
      "Setting `pad_token_id` to `eos_token_id`:2 for open-end generation.\n"
     ]
    },
    {
     "data": {
      "text/plain": [
       "[{'generated_text': 'Hello, world!\\n\\nI\\'m a newbie to this forum and I\\'m looking for some help. I\\'m trying to get a simple program to run on my computer. I\\'m using the Code::Blocks IDE and I\\'m trying to run a simple program that prints \"Hello, world!\" to the console. I\\'ve tried everything I can think of, but I keep getting the same error message:\\n\\n\"Process terminated with status 1 (0 minute(s), 0 second(s))\\n0 error(s), 0 warning(s) (0 minute(s), 0 second(s))\"\\n\\nI\\'ve tried reinstalling Code::Blocks, I\\'ve tried reinstalling the MinGW compiler, I\\'ve tried changing the compiler settings, I\\'ve tried changing the linker settings, I\\'ve tried changing the project settings, I\\'ve tried changing the build options, I\\'ve tried changing'}]"
      ]
     },
     "execution_count": 11,
     "metadata": {},
     "output_type": "execute_result"
    }
   ],
   "source": [
    "pipe(\"Hello, world!\")"
   ]
  },
  {
   "cell_type": "code",
   "execution_count": null,
   "id": "95581e02-ac6d-4c34-8bd8-c706c6078961",
   "metadata": {},
   "outputs": [],
   "source": []
  }
 ],
 "metadata": {
  "kernelspec": {
   "display_name": "Python 3 (ipykernel)",
   "language": "python",
   "name": "python3"
  },
  "language_info": {
   "codemirror_mode": {
    "name": "ipython",
    "version": 3
   },
   "file_extension": ".py",
   "mimetype": "text/x-python",
   "name": "python",
   "nbconvert_exporter": "python",
   "pygments_lexer": "ipython3",
   "version": "3.10.12"
  }
 },
 "nbformat": 4,
 "nbformat_minor": 5
}
