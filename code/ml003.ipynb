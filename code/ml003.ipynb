{
 "cells": [
  {
   "cell_type": "markdown",
   "id": "eb2dd6f0-8e91-4ae9-aa77-05cac85256f8",
   "metadata": {},
   "source": [
    "In this notebook, I'll try to replicate and train the network described in [this video](https://www.youtube.com/watch?v=Q1JCrG1bJ-A).\n"
   ]
  },
  {
   "cell_type": "code",
   "execution_count": null,
   "id": "428e3d93-4e0d-4dc5-a751-9f3de0ebaa65",
   "metadata": {},
   "outputs": [],
   "source": []
  }
 ],
 "metadata": {
  "kernelspec": {
   "display_name": "Python 3 (ipykernel)",
   "language": "python",
   "name": "python3"
  },
  "language_info": {
   "codemirror_mode": {
    "name": "ipython",
    "version": 3
   },
   "file_extension": ".py",
   "mimetype": "text/x-python",
   "name": "python",
   "nbconvert_exporter": "python",
   "pygments_lexer": "ipython3",
   "version": "3.10.12"
  }
 },
 "nbformat": 4,
 "nbformat_minor": 5
}
