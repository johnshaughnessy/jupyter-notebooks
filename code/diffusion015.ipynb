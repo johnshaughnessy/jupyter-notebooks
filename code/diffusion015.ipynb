{
 "cells": [
  {
   "cell_type": "markdown",
   "id": "b96f76e7-9ffd-4fe5-a835-5d517db7abb3",
   "metadata": {},
   "source": [
    "This notebook downloads the `stabilityai/stable-video-diffusion-img2vid` model."
   ]
  },
  {
   "cell_type": "code",
   "execution_count": 4,
   "id": "b0707396-4ab2-4e5d-9072-ecceb4a032ca",
   "metadata": {},
   "outputs": [
    {
     "data": {
      "application/vnd.jupyter.widget-view+json": {
       "model_id": "d19b5d6591b144f097bf954dd02b9692",
       "version_major": 2,
       "version_minor": 0
      },
      "text/plain": [
       "svd.safetensors:   0%|          | 0.00/9.56G [00:00<?, ?B/s]"
      ]
     },
     "metadata": {},
     "output_type": "display_data"
    },
    {
     "data": {
      "text/plain": [
       "'/home/john/.cache/huggingface/hub/models--stabilityai--stable-video-diffusion-img2vid/snapshots/0f2d55c1e358d608120344d3ea9c35fb5f2c31b3/svd.safetensors'"
      ]
     },
     "execution_count": 4,
     "metadata": {},
     "output_type": "execute_result"
    }
   ],
   "source": [
    "from huggingface_hub import hf_hub_download\n",
    "hf_hub_download(repo_id=\"stabilityai/stable-video-diffusion-img2vid\", filename=\"svd.safetensors\")"
   ]
  }
 ],
 "metadata": {
  "kernelspec": {
   "display_name": "Python 3 (ipykernel)",
   "language": "python",
   "name": "python3"
  },
  "language_info": {
   "codemirror_mode": {
    "name": "ipython",
    "version": 3
   },
   "file_extension": ".py",
   "mimetype": "text/x-python",
   "name": "python",
   "nbconvert_exporter": "python",
   "pygments_lexer": "ipython3",
   "version": "3.10.12"
  }
 },
 "nbformat": 4,
 "nbformat_minor": 5
}
